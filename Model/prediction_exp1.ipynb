{
 "cells": [
  {
   "cell_type": "code",
   "execution_count": 1,
   "metadata": {
    "collapsed": true
   },
   "outputs": [],
   "source": [
    "import numpy as np\n",
    "import itertools as it\n",
    "import pandas as ps"
   ]
  },
  {
   "cell_type": "code",
   "execution_count": 2,
   "metadata": {
    "collapsed": false
   },
   "outputs": [],
   "source": [
    "# \"global\" constants\n",
    "rels = [\"friend\", \"enemy\"]\n",
    "\n",
    "all_games = dict(\n",
    "    pd = [[8, 8], # Result 1\n",
    "          [0,12], # 2\n",
    "          [12,0], # 3\n",
    "          [4, 4]] # 4\n",
    "    ,\n",
    "    threat = [[12,6],\n",
    "              [6,12],\n",
    "              [6,0],\n",
    "              [0,6]]\n",
    "    ,\n",
    "    disjunctive = [[12,12],\n",
    "                   [12,12],\n",
    "                   [12,12],\n",
    "                   [0,0]]\n",
    "    ,\n",
    "    coordination = [[12,12],\n",
    "                  [ 0, 0],\n",
    "                  [ 0, 0],\n",
    "                  [12,12]]\n",
    "    ,\n",
    "    singleControl = [[6, 6],\n",
    "                  [0, 6],\n",
    "                  [6, 6],\n",
    "                  [0, 6]]\n",
    ")\n",
    "\n",
    "test_game = all_games[\"pd\"]\n",
    "# test_game"
   ]
  },
  {
   "cell_type": "code",
   "execution_count": 3,
   "metadata": {
    "collapsed": false
   },
   "outputs": [
    {
     "data": {
      "text/plain": [
       "['threat', 'disjunctive', 'singleControl', 'pd', 'coordination']"
      ]
     },
     "execution_count": 3,
     "metadata": {},
     "output_type": "execute_result"
    }
   ],
   "source": [
    "list(all_games.keys())"
   ]
  },
  {
   "cell_type": "code",
   "execution_count": 4,
   "metadata": {
    "collapsed": true
   },
   "outputs": [],
   "source": [
    "def quick_format(s):\n",
    "    return np.around(s, decimals=3).tolist()"
   ]
  },
  {
   "cell_type": "code",
   "execution_count": 5,
   "metadata": {
    "collapsed": true
   },
   "outputs": [],
   "source": [
    "def switch_player(player):\n",
    "    if player.lower() == \"a\":\n",
    "        return \"b\";\n",
    "    elif player.lower() == \"b\":\n",
    "        return \"a\";\n",
    "    else:\n",
    "        raise ValueError(\"Was not a player 'a' or 'b'!\")"
   ]
  },
  {
   "cell_type": "code",
   "execution_count": 6,
   "metadata": {
    "collapsed": true
   },
   "outputs": [],
   "source": [
    "# total utility\n",
    "def calculate_TU(result, w1, w2, gb, player):\n",
    "    u1 = result[0]\n",
    "    u2 = result[1]\n",
    "    \n",
    "    # alternate perspectives\n",
    "    if player.lower() == \"a\":\n",
    "        return (w1 * u1) + (gb * w2 * u2);\n",
    "    elif player.lower() == \"b\":\n",
    "        return (w1 * u2) + (gb * w2 * u1); # original\n",
    "    else:\n",
    "        raise ValueError(\"Was not a player 'a' or 'b'!\")"
   ]
  },
  {
   "cell_type": "code",
   "execution_count": 8,
   "metadata": {
    "collapsed": false
   },
   "outputs": [],
   "source": [
    "# expected utility\n",
    "def calculate_EU(u1, u2, p1=0.5, p2=0.5):\n",
    "    return (u1 * p1) + (u2 * p2); # p: probs of choices"
   ]
  },
  {
   "cell_type": "code",
   "execution_count": 9,
   "metadata": {
    "collapsed": true
   },
   "outputs": [],
   "source": [
    "def calculate_probs(eu_choice, eu_other): # probability of a choice\n",
    "    return np.exp(eu_choice) / (np.exp(eu_choice) + np.exp(eu_other))"
   ]
  },
  {
   "cell_type": "code",
   "execution_count": 10,
   "metadata": {
    "collapsed": true
   },
   "outputs": [],
   "source": [
    "def normalize(probs):\n",
    "    total = np.sum(probs)\n",
    "    ret_res = []\n",
    "    for e in probs:\n",
    "        ret_res.append(e / total)\n",
    "    \n",
    "    return ret_res;"
   ]
  },
  {
   "cell_type": "code",
   "execution_count": 12,
   "metadata": {
    "collapsed": true
   },
   "outputs": [],
   "source": [
    "def predict(all_tu, player):  # \"innermost\" call in recursion\n",
    "    all_eu = [] # keeps default p=0.5 values - see calculate_EU\n",
    "    if player.lower() == \"a\":\n",
    "        all_eu.append(calculate_EU(all_tu[0], all_tu[1])) #a1\n",
    "        all_eu.append(calculate_EU(all_tu[2], all_tu[3])) #a2\n",
    "    elif player.lower() == \"b\":\n",
    "        all_eu.append(calculate_EU(all_tu[0], all_tu[2])) #b1\n",
    "        all_eu.append(calculate_EU(all_tu[1], all_tu[3])) #b2\n",
    "    else:\n",
    "        raise ValueError(\"Was not a player 'a' or 'b'!\")\n",
    "    \n",
    "    probs = []\n",
    "    probs.append(calculate_probs(all_eu[0], all_eu[1])) # a1 or b1\n",
    "    probs.append(calculate_probs(all_eu[1], all_eu[0])) # a2 or b2\n",
    "    \n",
    "    return normalize(probs);"
   ]
  },
  {
   "cell_type": "code",
   "execution_count": 13,
   "metadata": {
    "collapsed": true
   },
   "outputs": [],
   "source": [
    "def predict_recursive(game, w1, w2, gb, player): # player is current level i.e. A (me) simulating B -> player=B\n",
    "    all_tu = [] # array of total utilities for player in each result\n",
    "    for result in game:\n",
    "        all_tu.append(calculate_TU(result, w1, w2, gb, player))\n",
    "    \n",
    "    p = predict(all_tu, switch_player(player)) # probs based on p1 = p2 = 0.5\n",
    "    \n",
    "    all_eu = []\n",
    "    if player.lower() == \"a\":\n",
    "        all_eu.append(calculate_EU(all_tu[0], all_tu[1], p[0], p[1])) #a1\n",
    "        all_eu.append(calculate_EU(all_tu[2], all_tu[3], p[0], p[1])) #a2\n",
    "    elif player.lower() == \"b\":\n",
    "        all_eu.append(calculate_EU(all_tu[0], all_tu[2], p[0], p[1])) #b1\n",
    "        all_eu.append(calculate_EU(all_tu[1], all_tu[3], p[0], p[1])) #b2\n",
    "    \n",
    "    probs = []\n",
    "    probs.append(calculate_probs(all_eu[0], all_eu[1])) # a1 or b1\n",
    "    probs.append(calculate_probs(all_eu[1], all_eu[0])) # a2 or b2\n",
    "    \n",
    "    return normalize(probs);"
   ]
  },
  {
   "cell_type": "code",
   "execution_count": 14,
   "metadata": {
    "collapsed": true
   },
   "outputs": [],
   "source": [
    "def get_choice_probs(game, relationship, player):\n",
    "    start = 51\n",
    "    end = 101\n",
    "    gb = 1 # default settings for \"stranger\"\n",
    "    if (relationship == \"friend\"):\n",
    "        start = 0\n",
    "        end = 50\n",
    "    elif (relationship == \"enemy\"):\n",
    "        gb = -1\n",
    "    \n",
    "    outcomes = []\n",
    "    for i in range(start, end):\n",
    "        w1 = i / 100 # counting by 0.01\n",
    "        w2 = 1 - w1\n",
    "        outcomes.append(predict_recursive(game, w1, w2, gb, player)) # ex: returns simulation of player B\n",
    "    \n",
    "    final = np.mean(outcomes, axis=0)\n",
    "#     print(\"Probability of choice {}1: {}\".format(player.upper(), final[0]))\n",
    "#     print(\"Probability of choice {}2: {}\".format(player.upper(), final[1]))\n",
    "    return final;"
   ]
  },
  {
   "cell_type": "code",
   "execution_count": 15,
   "metadata": {
    "collapsed": false
   },
   "outputs": [
    {
     "data": {
      "text/plain": [
       "array([ 0.98006898,  0.01993102])"
      ]
     },
     "execution_count": 15,
     "metadata": {},
     "output_type": "execute_result"
    }
   ],
   "source": [
    "get_choice_probs(test_game, \"friend\", \"a\")"
   ]
  },
  {
   "cell_type": "code",
   "execution_count": 16,
   "metadata": {
    "collapsed": false
   },
   "outputs": [],
   "source": [
    "def get_outcome_probs(game, relationship):\n",
    "    player = \"a\";\n",
    "    other_p = switch_player(player)\n",
    "    probs = get_choice_probs(game, relationship, player).tolist()\n",
    "    \n",
    "    probs.extend(get_choice_probs(game, relationship, other_p).tolist())\n",
    "    \n",
    "    ls = list(it.product(probs[0:2],probs[2:4]))\n",
    "\n",
    "    res = []\n",
    "    for e in ls:\n",
    "        res.append(e[0]*e[1])\n",
    "#     print(res)\n",
    "    \n",
    "#     final = np.around(res, decimals=3)\n",
    "#     for i in range(4):\n",
    "#         print(\"Probability of outcome {}: {}\".format(game[i], final[i]))\n",
    "    return res;"
   ]
  },
  {
   "cell_type": "code",
   "execution_count": 26,
   "metadata": {
    "collapsed": false
   },
   "outputs": [
    {
     "data": {
      "text/plain": [
       "[0.4925373530947524,\n",
       " 0.007462646905247512,\n",
       " 0.4925373530947524,\n",
       " 0.007462646905247512]"
      ]
     },
     "execution_count": 26,
     "metadata": {},
     "output_type": "execute_result"
    }
   ],
   "source": [
    "get_outcome_probs(all_games[\"singleControl\"], \"friend\")"
   ]
  },
  {
   "cell_type": "code",
   "execution_count": 18,
   "metadata": {
    "collapsed": true
   },
   "outputs": [],
   "source": [
    "# returns P(r|o) for one relationship\n",
    "def get_rel_prob(game, outcome, relationship): # outcome is index in game\n",
    "    prob_sum = 0\n",
    "    o_prob = 0\n",
    "\n",
    "    for r in rels:\n",
    "        p = get_outcome_probs(game, r)[outcome]\n",
    "#         print(p)\n",
    "        prob_sum += p * (1/2)\n",
    "#         print(prob_sum)\n",
    "        if r == relationship:\n",
    "            o_prob = p\n",
    "            \n",
    "    return (o_prob * (1/2)) / prob_sum;"
   ]
  },
  {
   "cell_type": "code",
   "execution_count": 19,
   "metadata": {
    "collapsed": false
   },
   "outputs": [],
   "source": [
    "# returns P(f|o), P(e|o) for outcome in that order\n",
    "def get_all_rel_probs(game, outcome):\n",
    "    rel_probs = []\n",
    "    for r in rels:\n",
    "        rel_probs.append(get_rel_prob(game, outcome, r))\n",
    "        \n",
    "    return normalize(rel_probs);"
   ]
  },
  {
   "cell_type": "code",
   "execution_count": 20,
   "metadata": {
    "collapsed": true
   },
   "outputs": [],
   "source": [
    "# returns P(f|o), P(e|o) for each outcome in game in that order\n",
    "def get_all_combos(game):\n",
    "    final = []\n",
    "    for o in range(len(game)):\n",
    "        final.append(get_all_rel_probs(game, o))\n",
    "        \n",
    "    return final;"
   ]
  },
  {
   "cell_type": "code",
   "execution_count": 21,
   "metadata": {
    "collapsed": false
   },
   "outputs": [
    {
     "data": {
      "text/plain": [
       "[1.0, 0.0]"
      ]
     },
     "execution_count": 21,
     "metadata": {},
     "output_type": "execute_result"
    }
   ],
   "source": [
    "quick_format(get_all_rel_probs(test_game, 0)) # result: [friends, enemies]"
   ]
  },
  {
   "cell_type": "code",
   "execution_count": 22,
   "metadata": {
    "collapsed": false
   },
   "outputs": [
    {
     "data": {
      "text/plain": [
       "[[1.0, 0.0], [0.711, 0.289], [0.711, 0.289], [0.0, 1.0]]"
      ]
     },
     "execution_count": 22,
     "metadata": {},
     "output_type": "execute_result"
    }
   ],
   "source": [
    "quick_format(get_all_combos(test_game))"
   ]
  },
  {
   "cell_type": "code",
   "execution_count": 23,
   "metadata": {
    "collapsed": true
   },
   "outputs": [],
   "source": [
    "def generate_game_predictions():\n",
    "    mp = []\n",
    "    current = []\n",
    "    current_p = []\n",
    "    for game in all_games.keys():\n",
    "        for o in range(4): # 4 cells per game\n",
    "            current = []\n",
    "            current.append(game + str(o))\n",
    "            current_p = get_all_rel_probs(all_games[game], o)\n",
    "            for r in range(2): # 2 relationships\n",
    "                current.append(rels[r])\n",
    "                current.append(quick_format(current_p[r]))\n",
    "                mp.append(current)\n",
    "                current = current[:1]\n",
    "\n",
    "    predictions = ps.DataFrame(data=mp, columns=[\"game\",\"relationship\",\"rating\"])\n",
    "    remove_these = [\"pd2\",\"disjunctive1\",\"disjunctive2\",\"coordination2\",\"coordination3\",\n",
    "                   \"singleControl2\",\"singleControl3\"]\n",
    "    predictions = predictions.loc[~predictions['game'].isin(remove_these)]\n",
    "    \n",
    "    predictions.to_csv(\"NEWmodelPredictions_noS.csv\",index=False)\n",
    "    return;"
   ]
  },
  {
   "cell_type": "code",
   "execution_count": 24,
   "metadata": {
    "collapsed": false
   },
   "outputs": [],
   "source": [
    "# generate_game_predictions()"
   ]
  },
  {
   "cell_type": "code",
   "execution_count": null,
   "metadata": {
    "collapsed": true
   },
   "outputs": [],
   "source": []
  }
 ],
 "metadata": {
  "anaconda-cloud": {},
  "kernelspec": {
   "display_name": "Python [conda root]",
   "language": "python",
   "name": "conda-root-py"
  },
  "language_info": {
   "codemirror_mode": {
    "name": "ipython",
    "version": 3
   },
   "file_extension": ".py",
   "mimetype": "text/x-python",
   "name": "python",
   "nbconvert_exporter": "python",
   "pygments_lexer": "ipython3",
   "version": "3.5.2"
  }
 },
 "nbformat": 4,
 "nbformat_minor": 1
}
